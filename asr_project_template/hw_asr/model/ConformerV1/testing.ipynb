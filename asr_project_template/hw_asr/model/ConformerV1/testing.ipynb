{
 "cells": [
  {
   "cell_type": "code",
   "execution_count": 102,
   "metadata": {},
   "outputs": [
    {
     "name": "stdout",
     "output_type": "stream",
     "text": [
      "The autoreload extension is already loaded. To reload it, use:\n",
      "  %reload_ext autoreload\n"
     ]
    }
   ],
   "source": [
    "%load_ext autoreload\n",
    "%autoreload 2"
   ]
  },
  {
   "cell_type": "code",
   "execution_count": 103,
   "metadata": {},
   "outputs": [],
   "source": [
    "import encoder\n",
    "import torch\n",
    "import torch.nn as nn\n",
    "import conv\n",
    "import feed_forward\n",
    "from attention import ConformerAttentionBlock\n",
    "from activations import GLU, Swish"
   ]
  },
  {
   "cell_type": "code",
   "execution_count": 104,
   "metadata": {},
   "outputs": [],
   "source": [
    "cenc = encoder.ConformerEncoder(\n",
    "    input_dim=128,\n",
    "    d_encoder=512,\n",
    "    num_layers=1,\n",
    "    num_heads_attention=2,\n",
    "    ffl_exp_factor=1,\n",
    "    conv_exp_factor=2,\n",
    "    conv_kernel_size=3,\n",
    "    ffl_dropout=0.1,\n",
    "    conv_dropout=0.1,\n",
    "    attention_dropout=0.1\n",
    ")"
   ]
  },
  {
   "cell_type": "code",
   "execution_count": 105,
   "metadata": {},
   "outputs": [
    {
     "data": {
      "text/plain": [
       "torch.Size([3, 128, 80])"
      ]
     },
     "execution_count": 105,
     "metadata": {},
     "output_type": "execute_result"
    }
   ],
   "source": [
    "batch = torch.randn(3, 128, 80)\n",
    "batch.shape"
   ]
  },
  {
   "cell_type": "code",
   "execution_count": 106,
   "metadata": {},
   "outputs": [],
   "source": [
    "c = conv.ConvSubsample(in_chanels=128, out_chanels=512)\n",
    "linear_projection = nn.Sequential(\n",
    "            nn.Linear(512, 512),\n",
    "            nn.Dropout(0.1)\n",
    "        )\n",
    "cb = feed_forward.ConformerFeedForwardLayer(512, 1, 0.1)\n",
    "ca = ConformerAttentionBlock(512, 2, 0.1)\n",
    "ccc = conv.ConformerConvBlock(512, 2, 3, 1, 1, 0.1)"
   ]
  },
  {
   "cell_type": "code",
   "execution_count": 107,
   "metadata": {},
   "outputs": [
    {
     "data": {
      "text/plain": [
       "torch.Size([3, 19, 512])"
      ]
     },
     "execution_count": 107,
     "metadata": {},
     "output_type": "execute_result"
    }
   ],
   "source": [
    "new_batch = torch.ones((3, 19, 512))\n",
    "pre_conv = ccc(new_batch)\n",
    "pre_conv.shape"
   ]
  },
  {
   "cell_type": "code",
   "execution_count": 108,
   "metadata": {},
   "outputs": [
    {
     "data": {
      "text/plain": [
       "torch.Size([3, 19, 512])"
      ]
     },
     "execution_count": 108,
     "metadata": {},
     "output_type": "execute_result"
    }
   ],
   "source": [
    "cenc(batch).shape"
   ]
  },
  {
   "cell_type": "code",
   "execution_count": null,
   "metadata": {},
   "outputs": [],
   "source": []
  },
  {
   "cell_type": "code",
   "execution_count": null,
   "metadata": {},
   "outputs": [],
   "source": []
  }
 ],
 "metadata": {
  "kernelspec": {
   "display_name": "DLA",
   "language": "python",
   "name": "python3"
  },
  "language_info": {
   "codemirror_mode": {
    "name": "ipython",
    "version": 3
   },
   "file_extension": ".py",
   "mimetype": "text/x-python",
   "name": "python",
   "nbconvert_exporter": "python",
   "pygments_lexer": "ipython3",
   "version": "3.11.5"
  },
  "orig_nbformat": 4
 },
 "nbformat": 4,
 "nbformat_minor": 2
}
