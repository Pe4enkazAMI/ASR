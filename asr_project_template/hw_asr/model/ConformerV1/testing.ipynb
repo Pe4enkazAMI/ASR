{
 "cells": [
  {
   "cell_type": "code",
   "execution_count": 100,
   "metadata": {},
   "outputs": [
    {
     "name": "stdout",
     "output_type": "stream",
     "text": [
      "The autoreload extension is already loaded. To reload it, use:\n",
      "  %reload_ext autoreload\n"
     ]
    }
   ],
   "source": [
    "%load_ext autoreload\n",
    "%autoreload 2"
   ]
  },
  {
   "cell_type": "code",
   "execution_count": 119,
   "metadata": {},
   "outputs": [
    {
     "name": "stderr",
     "output_type": "stream",
     "text": [
      "[autoreload of feed_forward failed: Traceback (most recent call last):\n",
      "  File \"/Users/bayesian_monster/anaconda3/envs/DLA/lib/python3.11/site-packages/IPython/extensions/autoreload.py\", line 276, in check\n",
      "    superreload(m, reload, self.old_objects)\n",
      "  File \"/Users/bayesian_monster/anaconda3/envs/DLA/lib/python3.11/site-packages/IPython/extensions/autoreload.py\", line 475, in superreload\n",
      "    module = reload(module)\n",
      "             ^^^^^^^^^^^^^^\n",
      "  File \"/Users/bayesian_monster/anaconda3/envs/DLA/lib/python3.11/importlib/__init__.py\", line 169, in reload\n",
      "    _bootstrap._exec(spec, module)\n",
      "  File \"<frozen importlib._bootstrap>\", line 621, in _exec\n",
      "  File \"<frozen importlib._bootstrap_external>\", line 940, in exec_module\n",
      "  File \"<frozen importlib._bootstrap>\", line 241, in _call_with_frames_removed\n",
      "  File \"/Users/bayesian_monster/DLA/asr_project_template/hw_asr/model/ConformerV1/feed_forward.py\", line 4, in <module>\n",
      "    from .activations import Swish\n",
      "ImportError: attempted relative import with no known parent package\n",
      "]\n",
      "[autoreload of encoder failed: Traceback (most recent call last):\n",
      "  File \"/Users/bayesian_monster/anaconda3/envs/DLA/lib/python3.11/site-packages/IPython/extensions/autoreload.py\", line 276, in check\n",
      "    superreload(m, reload, self.old_objects)\n",
      "  File \"/Users/bayesian_monster/anaconda3/envs/DLA/lib/python3.11/site-packages/IPython/extensions/autoreload.py\", line 475, in superreload\n",
      "    module = reload(module)\n",
      "             ^^^^^^^^^^^^^^\n",
      "  File \"/Users/bayesian_monster/anaconda3/envs/DLA/lib/python3.11/importlib/__init__.py\", line 169, in reload\n",
      "    _bootstrap._exec(spec, module)\n",
      "  File \"<frozen importlib._bootstrap>\", line 621, in _exec\n",
      "  File \"<frozen importlib._bootstrap_external>\", line 940, in exec_module\n",
      "  File \"<frozen importlib._bootstrap>\", line 241, in _call_with_frames_removed\n",
      "  File \"/Users/bayesian_monster/DLA/asr_project_template/hw_asr/model/ConformerV1/encoder.py\", line 4, in <module>\n",
      "    from .activations import Swish\n",
      "ImportError: attempted relative import with no known parent package\n",
      "]\n",
      "[autoreload of conv failed: Traceback (most recent call last):\n",
      "  File \"/Users/bayesian_monster/anaconda3/envs/DLA/lib/python3.11/site-packages/IPython/extensions/autoreload.py\", line 276, in check\n",
      "    superreload(m, reload, self.old_objects)\n",
      "  File \"/Users/bayesian_monster/anaconda3/envs/DLA/lib/python3.11/site-packages/IPython/extensions/autoreload.py\", line 475, in superreload\n",
      "    module = reload(module)\n",
      "             ^^^^^^^^^^^^^^\n",
      "  File \"/Users/bayesian_monster/anaconda3/envs/DLA/lib/python3.11/importlib/__init__.py\", line 169, in reload\n",
      "    _bootstrap._exec(spec, module)\n",
      "  File \"<frozen importlib._bootstrap>\", line 621, in _exec\n",
      "  File \"<frozen importlib._bootstrap_external>\", line 940, in exec_module\n",
      "  File \"<frozen importlib._bootstrap>\", line 241, in _call_with_frames_removed\n",
      "  File \"/Users/bayesian_monster/DLA/asr_project_template/hw_asr/model/ConformerV1/conv.py\", line 3, in <module>\n",
      "    from .activations import Swish, GLU\n",
      "ImportError: attempted relative import with no known parent package\n",
      "]\n"
     ]
    }
   ],
   "source": [
    "import torch\n",
    "import torch.nn as nn\n"
   ]
  },
  {
   "cell_type": "code",
   "execution_count": 102,
   "metadata": {},
   "outputs": [],
   "source": [
    "cenc = encoder.ConformerEncoder(\n",
    "    input_dim=128,\n",
    "    d_encoder=512,\n",
    "    num_layers=3,\n",
    "    num_heads_attention=8,\n",
    "    ffl_exp_factor=2,\n",
    "    conv_exp_factor=2,\n",
    "    conv_kernel_size=32,\n",
    "    ffl_dropout=0.1,\n",
    "    conv_dropout=0.1,\n",
    "    attention_dropout=0.1\n",
    ")"
   ]
  },
  {
   "cell_type": "code",
   "execution_count": 103,
   "metadata": {},
   "outputs": [
    {
     "data": {
      "text/plain": [
       "torch.Size([3, 128, 128])"
      ]
     },
     "execution_count": 103,
     "metadata": {},
     "output_type": "execute_result"
    }
   ],
   "source": [
    "batch = torch.randn(3, 128, 128)\n",
    "batch.shape"
   ]
  },
  {
   "cell_type": "code",
   "execution_count": 104,
   "metadata": {},
   "outputs": [],
   "source": [
    "subsample = conv.ConvSubsample(in_chanels=128, out_chanels=512)\n",
    "linear_proj = nn.Sequential(\n",
    "            nn.Linear(512, 512),\n",
    "            nn.Dropout(0.1)\n",
    "        )"
   ]
  },
  {
   "cell_type": "code",
   "execution_count": 105,
   "metadata": {},
   "outputs": [],
   "source": [
    "subsampled = subsample(batch, batch.shape)"
   ]
  },
  {
   "cell_type": "code",
   "execution_count": 106,
   "metadata": {},
   "outputs": [],
   "source": [
    "lin = linear_proj(subsampled)"
   ]
  },
  {
   "cell_type": "code",
   "execution_count": 107,
   "metadata": {},
   "outputs": [],
   "source": [
    "from feed_forward import ConformerFeedForwardLayer"
   ]
  },
  {
   "cell_type": "code",
   "execution_count": 108,
   "metadata": {},
   "outputs": [],
   "source": [
    "ffl = ConformerFeedForwardLayer(512, 2, 0.1)"
   ]
  },
  {
   "cell_type": "code",
   "execution_count": 109,
   "metadata": {},
   "outputs": [],
   "source": [
    "after_ffl = ffl(lin) + lin"
   ]
  },
  {
   "cell_type": "code",
   "execution_count": 110,
   "metadata": {},
   "outputs": [],
   "source": [
    "attn = ConformerAttentionBlock(512, 8, 0.1)"
   ]
  },
  {
   "cell_type": "code",
   "execution_count": 111,
   "metadata": {},
   "outputs": [],
   "source": [
    "after_attn = attn(after_ffl) + after_ffl"
   ]
  },
  {
   "cell_type": "code",
   "execution_count": 112,
   "metadata": {},
   "outputs": [],
   "source": [
    "from conv import ConformerConvBlock"
   ]
  },
  {
   "cell_type": "code",
   "execution_count": 116,
   "metadata": {},
   "outputs": [],
   "source": [
    "conv_ = ConformerConvBlock(in_chanels=512, exp_factor=2, kernel_size=31, padding=15, stride=1, dropout=0.1)"
   ]
  },
  {
   "cell_type": "code",
   "execution_count": 117,
   "metadata": {},
   "outputs": [
    {
     "data": {
      "text/plain": [
       "torch.Size([3, 31, 512])"
      ]
     },
     "execution_count": 117,
     "metadata": {},
     "output_type": "execute_result"
    }
   ],
   "source": [
    "after_attn.shape"
   ]
  },
  {
   "cell_type": "code",
   "execution_count": 118,
   "metadata": {},
   "outputs": [
    {
     "name": "stdout",
     "output_type": "stream",
     "text": [
      "torch.Size([3, 1024, 31])\n",
      "torch.Size([3, 512, 31])\n",
      "torch.Size([3, 512, 31])\n",
      "torch.Size([3, 512, 31])\n",
      "torch.Size([3, 512, 31])\n",
      "torch.Size([3, 512, 31])\n",
      "torch.Size([3, 512, 31])\n"
     ]
    }
   ],
   "source": [
    "after_conv = conv_(after_attn)\n"
   ]
  },
  {
   "cell_type": "code",
   "execution_count": 93,
   "metadata": {},
   "outputs": [],
   "source": [
    "ffl_2 = ConformerFeedForwardLayer(512, 2, 0.1)"
   ]
  },
  {
   "cell_type": "code",
   "execution_count": 95,
   "metadata": {},
   "outputs": [],
   "source": [
    "shit = (ffl_2(after_conv) + after_conv)"
   ]
  },
  {
   "cell_type": "code",
   "execution_count": 96,
   "metadata": {},
   "outputs": [
    {
     "data": {
      "text/plain": [
       "torch.Size([3, 31, 512])"
      ]
     },
     "execution_count": 96,
     "metadata": {},
     "output_type": "execute_result"
    }
   ],
   "source": [
    "shit"
   ]
  },
  {
   "cell_type": "code",
   "execution_count": 176,
   "metadata": {},
   "outputs": [],
   "source": [
    "class ConvSubsample(nn.Module):\n",
    "    def __init__(self, in_chanels, out_chanels):\n",
    "        super().__init__()\n",
    "        self.subsampler = nn.Sequential(\n",
    "            nn.Conv2d(in_channels=1, out_channels=out_chanels, kernel_size=3, stride=2),\n",
    "            nn.ReLU(),\n",
    "            nn.Conv2d(in_channels=out_chanels, out_channels=out_chanels, kernel_size=3, stride=2),\n",
    "            nn.ReLU()\n",
    "        )\n",
    "    \n",
    "    def forward(self, x):\n",
    "        out = self.subsampler(x.unsqueeze(1))\n",
    "        batch_size, channels, subsample_len, subsample_dim = out.shape\n",
    "\n",
    "        out = out.permute(0, 2, 1, 3)\n",
    "        out = out.contiguous().view(batch_size, subsample_len, channels * subsample_dim)\n",
    "        return out\n",
    "    \n"
   ]
  },
  {
   "cell_type": "code",
   "execution_count": 181,
   "metadata": {},
   "outputs": [],
   "source": [
    "testing_jopa = ConvSubsample(1, 144)\n",
    "linear = nn.Linear(144 * ((140 - 1)//2 - 1)//2, 144)"
   ]
  },
  {
   "cell_type": "code",
   "execution_count": 178,
   "metadata": {},
   "outputs": [
    {
     "data": {
      "text/plain": [
       "torch.Size([3, 128, 140])"
      ]
     },
     "execution_count": 178,
     "metadata": {},
     "output_type": "execute_result"
    }
   ],
   "source": [
    "batch = torch.randn(3, 128, 140)\n",
    "batch.shape"
   ]
  },
  {
   "cell_type": "code",
   "execution_count": 186,
   "metadata": {},
   "outputs": [
    {
     "name": "stdout",
     "output_type": "stream",
     "text": [
      "3 144 31 34\n",
      "4896\n"
     ]
    },
    {
     "data": {
      "text/plain": [
       "torch.Size([3, 31, 144])"
      ]
     },
     "execution_count": 186,
     "metadata": {},
     "output_type": "execute_result"
    }
   ],
   "source": [
    "out = testing_jopa(batch)\n",
    "linear(out).shape"
   ]
  },
  {
   "cell_type": "code",
   "execution_count": 184,
   "metadata": {},
   "outputs": [
    {
     "data": {
      "text/plain": [
       "4896"
      ]
     },
     "execution_count": 184,
     "metadata": {},
     "output_type": "execute_result"
    }
   ],
   "source": [
    "144 * (((140 - 1) // 2 - 1) // 2)"
   ]
  },
  {
   "cell_type": "code",
   "execution_count": null,
   "metadata": {},
   "outputs": [],
   "source": []
  }
 ],
 "metadata": {
  "kernelspec": {
   "display_name": "DLA",
   "language": "python",
   "name": "python3"
  },
  "language_info": {
   "codemirror_mode": {
    "name": "ipython",
    "version": 3
   },
   "file_extension": ".py",
   "mimetype": "text/x-python",
   "name": "python",
   "nbconvert_exporter": "python",
   "pygments_lexer": "ipython3",
   "version": "3.11.5"
  },
  "orig_nbformat": 4
 },
 "nbformat": 4,
 "nbformat_minor": 2
}
